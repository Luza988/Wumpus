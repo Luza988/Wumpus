{
 "cells": [
  {
   "cell_type": "code",
   "id": "initial_id",
   "metadata": {
    "collapsed": true,
    "ExecuteTime": {
     "end_time": "2025-01-29T16:46:51.067623Z",
     "start_time": "2025-01-29T16:46:51.049069Z"
    }
   },
   "source": [
    "import pandas as pd\n",
    "from Project import collector"
   ],
   "outputs": [],
   "execution_count": 7
  },
  {
   "metadata": {
    "ExecuteTime": {
     "end_time": "2025-01-29T16:46:51.123476Z",
     "start_time": "2025-01-29T16:46:51.067623Z"
    }
   },
   "cell_type": "code",
   "source": [
    "data = collector.single_run_collector()\n",
    "data[data[\"Round\" == 200]]"
   ],
   "id": "fda30272fe721567",
   "outputs": [
    {
     "name": "stdout",
     "output_type": "stream",
     "text": [
      "\n",
      "step: 0\n",
      "initiator in comm: 0, receivers in comm: []\n",
      "0 found no receivers\n",
      "initiator in comm: 1, receivers in comm: []\n",
      "1 found no receivers\n",
      "initiator in comm: 2, receivers in comm: []\n",
      "2 found no receivers\n",
      "initiator in comm: 3, receivers in comm: [4]\n"
     ]
    },
    {
     "ename": "KeyError",
     "evalue": "4",
     "output_type": "error",
     "traceback": [
      "\u001B[1;31m---------------------------------------------------------------------------\u001B[0m",
      "\u001B[1;31mKeyError\u001B[0m                                  Traceback (most recent call last)",
      "Cell \u001B[1;32mIn[8], line 1\u001B[0m\n\u001B[1;32m----> 1\u001B[0m data \u001B[38;5;241m=\u001B[39m \u001B[43mcollector\u001B[49m\u001B[38;5;241;43m.\u001B[39;49m\u001B[43msingle_run_collector\u001B[49m\u001B[43m(\u001B[49m\u001B[43m)\u001B[49m\n\u001B[0;32m      2\u001B[0m data[data[\u001B[38;5;124m\"\u001B[39m\u001B[38;5;124mRound\u001B[39m\u001B[38;5;124m\"\u001B[39m \u001B[38;5;241m==\u001B[39m \u001B[38;5;241m200\u001B[39m]]\n",
      "File \u001B[1;32m~\\PycharmProjects\\Wumpus\\Project\\collector.py:13\u001B[0m, in \u001B[0;36msingle_run_collector\u001B[1;34m(number_of_agents, number_of_simulation_steps, seed, map_width, map_height)\u001B[0m\n\u001B[0;32m     11\u001B[0m agents \u001B[38;5;241m=\u001B[39m simulator\u001B[38;5;241m.\u001B[39mget_agents()\n\u001B[0;32m     12\u001B[0m \u001B[38;5;28;01mfor\u001B[39;00m \u001B[38;5;28mround\u001B[39m \u001B[38;5;129;01min\u001B[39;00m \u001B[38;5;28mrange\u001B[39m(\u001B[38;5;241m1\u001B[39m, number_of_simulation_steps):\n\u001B[1;32m---> 13\u001B[0m     _, meta \u001B[38;5;241m=\u001B[39m \u001B[43msimulator\u001B[49m\u001B[38;5;241;43m.\u001B[39;49m\u001B[43msimulate_next_step\u001B[49m\u001B[43m(\u001B[49m\u001B[38;5;241;43m-\u001B[39;49m\u001B[38;5;241;43m1\u001B[39;49m\u001B[43m)\u001B[49m\n\u001B[0;32m     14\u001B[0m     \u001B[38;5;28;01mfor\u001B[39;00m agentName \u001B[38;5;129;01min\u001B[39;00m \u001B[38;5;28mrange\u001B[39m(\u001B[38;5;28mlen\u001B[39m(meta)):\n\u001B[0;32m     15\u001B[0m         dataArray\u001B[38;5;241m.\u001B[39mappend([agentName,\n\u001B[0;32m     16\u001B[0m                           agents[agentName]\u001B[38;5;241m.\u001B[39mrole\u001B[38;5;241m.\u001B[39mname,\n\u001B[0;32m     17\u001B[0m                           \u001B[38;5;28mround\u001B[39m,\n\u001B[0;32m     18\u001B[0m                           meta[agentName][AgentGoal\u001B[38;5;241m.\u001B[39mGOLD\u001B[38;5;241m.\u001B[39mvalue][\u001B[38;5;241m0\u001B[39m],\n\u001B[0;32m     19\u001B[0m                           meta[agentName][AgentGoal\u001B[38;5;241m.\u001B[39mWUMPUS\u001B[38;5;241m.\u001B[39mvalue][\u001B[38;5;241m0\u001B[39m],\n\u001B[0;32m     20\u001B[0m                           meta[agentName][AgentGoal\u001B[38;5;241m.\u001B[39mMAP_PROGRESS\u001B[38;5;241m.\u001B[39mvalue][\u001B[38;5;241m0\u001B[39m]])\n",
      "File \u001B[1;32m~\\PycharmProjects\\Wumpus\\Project\\Simulator.py:121\u001B[0m, in \u001B[0;36mSimulator.simulate_next_step\u001B[1;34m(self, view)\u001B[0m\n\u001B[0;32m    119\u001B[0m \u001B[38;5;28;01mfor\u001B[39;00m name \u001B[38;5;129;01min\u001B[39;00m names_of_agents_in_proximity:\n\u001B[0;32m    120\u001B[0m     agents_in_proximity\u001B[38;5;241m.\u001B[39mappend((name, \u001B[38;5;28mself\u001B[39m\u001B[38;5;241m.\u001B[39m__agents[name]\u001B[38;5;241m.\u001B[39mrole))\n\u001B[1;32m--> 121\u001B[0m \u001B[38;5;28;01mif\u001B[39;00m \u001B[38;5;28;43mself\u001B[39;49m\u001B[38;5;241;43m.\u001B[39;49m\u001B[43m__communication_channel\u001B[49m\u001B[38;5;241;43m.\u001B[39;49m\u001B[43mcommunicate\u001B[49m\u001B[43m(\u001B[49m\u001B[43magent\u001B[49m\u001B[38;5;241;43m.\u001B[39;49m\u001B[43mname\u001B[49m\u001B[43m,\u001B[49m\u001B[43m \u001B[49m\u001B[43magents_in_proximity\u001B[49m\u001B[43m,\u001B[49m\u001B[43m \u001B[49m\u001B[38;5;28;43mself\u001B[39;49m\u001B[38;5;241;43m.\u001B[39;49m\u001B[43m__current_step\u001B[49m\u001B[43m)\u001B[49m:\n\u001B[0;32m    122\u001B[0m     \u001B[38;5;28mprint\u001B[39m(\u001B[38;5;124mf\u001B[39m\u001B[38;5;124m\"\u001B[39m\u001B[38;5;124mInitiator: \u001B[39m\u001B[38;5;132;01m{\u001B[39;00magent\u001B[38;5;241m.\u001B[39mname\u001B[38;5;132;01m}\u001B[39;00m\u001B[38;5;124m, proximity: \u001B[39m\u001B[38;5;132;01m{\u001B[39;00magents_in_proximity\u001B[38;5;132;01m}\u001B[39;00m\u001B[38;5;124m\"\u001B[39m)\n\u001B[0;32m    123\u001B[0m     \u001B[38;5;66;03m# update knowledge of participants\u001B[39;00m\n",
      "File \u001B[1;32m~\\PycharmProjects\\Wumpus\\Project\\Communication\\Channel.py:45\u001B[0m, in \u001B[0;36mChannel.communicate\u001B[1;34m(self, initiator, potential_receivers, step)\u001B[0m\n\u001B[0;32m     43\u001B[0m     \u001B[38;5;28;01mif\u001B[39;00m \u001B[38;5;28mself\u001B[39m\u001B[38;5;241m.\u001B[39magents[participant]\u001B[38;5;241m.\u001B[39mrole \u001B[38;5;129;01min\u001B[39;00m [AgentRole\u001B[38;5;241m.\u001B[39mBWL_STUDENT, AgentRole\u001B[38;5;241m.\u001B[39mCARTOGRAPHER]:\n\u001B[0;32m     44\u001B[0m         wumpus_amount \u001B[38;5;241m=\u001B[39m \u001B[38;5;28mlen\u001B[39m(\u001B[38;5;28mself\u001B[39m\u001B[38;5;241m.\u001B[39magents[participant]\u001B[38;5;241m.\u001B[39magent\u001B[38;5;241m.\u001B[39mget_knowledgebase()\u001B[38;5;241m.\u001B[39mget_tiles_by_condition(TileCondition\u001B[38;5;241m.\u001B[39mWUMPUS))\n\u001B[1;32m---> 45\u001B[0m     \u001B[38;5;28mprint\u001B[39m(\u001B[38;5;124mf\u001B[39m\u001B[38;5;124m\"\u001B[39m\u001B[38;5;124mreceiver: \u001B[39m\u001B[38;5;132;01m{\u001B[39;00mparticipant\u001B[38;5;132;01m}\u001B[39;00m\u001B[38;5;124m, answer: (\u001B[39m\u001B[38;5;132;01m{\u001B[39;00m\u001B[43mreceiver_answers\u001B[49m\u001B[43m[\u001B[49m\u001B[43mparticipant\u001B[49m\u001B[43m]\u001B[49m[\u001B[38;5;241m0\u001B[39m]\u001B[38;5;241m.\u001B[39mname\u001B[38;5;132;01m}\u001B[39;00m\u001B[38;5;124m, \u001B[39m\u001B[38;5;132;01m{\u001B[39;00mreceiver_answers[participant][\u001B[38;5;241m1\u001B[39m]\u001B[38;5;132;01m}\u001B[39;00m\u001B[38;5;124m, \u001B[39m\u001B[38;5;132;01m{\u001B[39;00mreceiver_answers[participant][\u001B[38;5;241m2\u001B[39m]\u001B[38;5;132;01m}\u001B[39;00m\u001B[38;5;124m)\u001B[39m\u001B[38;5;124m\"\u001B[39m)\n\u001B[0;32m     47\u001B[0m     receiver_answers\u001B[38;5;241m.\u001B[39mupdate(\n\u001B[0;32m     48\u001B[0m         {participant: \u001B[38;5;28mself\u001B[39m\u001B[38;5;241m.\u001B[39magents[participant]\u001B[38;5;241m.\u001B[39magent\u001B[38;5;241m.\u001B[39manswer_to_offer(request_type, desired_tiles, acceptable_tiles, knowledge_tiles, gold_amount, wumpus_amount)})\n\u001B[0;32m     50\u001B[0m \u001B[38;5;66;03m# TODO evaluate answers\u001B[39;00m\n",
      "\u001B[1;31mKeyError\u001B[0m: 4"
     ]
    }
   ],
   "execution_count": 8
  }
 ],
 "metadata": {
  "kernelspec": {
   "display_name": "Python 3",
   "language": "python",
   "name": "python3"
  },
  "language_info": {
   "codemirror_mode": {
    "name": "ipython",
    "version": 2
   },
   "file_extension": ".py",
   "mimetype": "text/x-python",
   "name": "python",
   "nbconvert_exporter": "python",
   "pygments_lexer": "ipython2",
   "version": "2.7.6"
  }
 },
 "nbformat": 4,
 "nbformat_minor": 5
}
