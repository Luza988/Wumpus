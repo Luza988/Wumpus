{
 "cells": [
  {
   "cell_type": "code",
   "id": "initial_id",
   "metadata": {
    "collapsed": true,
    "ExecuteTime": {
     "end_time": "2025-01-30T10:07:26.304082Z",
     "start_time": "2025-01-30T10:07:26.290753Z"
    }
   },
   "source": [
    "import pandas as pd\n",
    "from Project import collector\n",
    "import sys"
   ],
   "outputs": [],
   "execution_count": 5
  },
  {
   "metadata": {
    "ExecuteTime": {
     "end_time": "2025-01-30T10:07:32.562070Z",
     "start_time": "2025-01-30T10:07:26.322622Z"
    }
   },
   "cell_type": "code",
   "source": [
    "std_origin = sys.stdout\n",
    "sys.stdout = open(\"ComDump\", \"w\", encoding=\"utf-8\")\n",
    "data = collector.single_run_collector(with_communication=True, seed=123)\n",
    "#sys.stdout.flush()\n",
    "sys.stdout = std_origin"
   ],
   "id": "fda30272fe721567",
   "outputs": [],
   "execution_count": 6
  },
  {
   "metadata": {
    "ExecuteTime": {
     "end_time": "2025-01-30T10:08:13.737611Z",
     "start_time": "2025-01-30T10:08:13.721598Z"
    }
   },
   "cell_type": "code",
   "source": [
    "import re\n",
    "#sys.stdout = std_origin\n",
    "with open(\"ComDump\", \"r\", encoding=\"utf-8\") as file:\n",
    "    lines = file.readlines()\n",
    "    succed = []\n",
    "    for i in range(len(lines)):\n",
    "        if re.search(\"(The request is completed)|(The negotiation has reached an agreement)\", lines[i]) is not None:\n",
    "            succed.append(i)\n",
    "    print(len(succed))"
   ],
   "id": "4f1f998cf7cbd018",
   "outputs": [
    {
     "name": "stdout",
     "output_type": "stream",
     "text": [
      "357\n"
     ]
    }
   ],
   "execution_count": 8
  },
  {
   "metadata": {
    "ExecuteTime": {
     "end_time": "2025-01-30T10:07:32.580797Z",
     "start_time": "2025-01-30T10:07:32.578833Z"
    }
   },
   "cell_type": "code",
   "source": "",
   "id": "bd4b93a8f4d4a04e",
   "outputs": [],
   "execution_count": 7
  }
 ],
 "metadata": {
  "kernelspec": {
   "display_name": "Python 3",
   "language": "python",
   "name": "python3"
  },
  "language_info": {
   "codemirror_mode": {
    "name": "ipython",
    "version": 2
   },
   "file_extension": ".py",
   "mimetype": "text/x-python",
   "name": "python",
   "nbconvert_exporter": "python",
   "pygments_lexer": "ipython2",
   "version": "2.7.6"
  }
 },
 "nbformat": 4,
 "nbformat_minor": 5
}
