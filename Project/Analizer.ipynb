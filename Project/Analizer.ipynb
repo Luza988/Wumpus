{
 "cells": [
  {
   "cell_type": "code",
   "id": "initial_id",
   "metadata": {
    "collapsed": true,
    "ExecuteTime": {
     "end_time": "2025-01-30T09:34:49.008948Z",
     "start_time": "2025-01-30T09:34:48.599524Z"
    }
   },
   "source": [
    "import pandas as pd\n",
    "from Project import collector\n",
    "import sys"
   ],
   "outputs": [],
   "execution_count": 1
  },
  {
   "metadata": {
    "ExecuteTime": {
     "end_time": "2025-01-30T09:34:49.763803Z",
     "start_time": "2025-01-30T09:34:49.010955Z"
    }
   },
   "cell_type": "code",
   "source": [
    "sys.stdout = open(\"ComDump\", \"w\", encoding=\"utf-8\")\n",
    "data = collector.single_run_collector(with_communication=True, seed=42)\n",
    "sys.stdout.flush()"
   ],
   "id": "fda30272fe721567",
   "outputs": [
    {
     "ename": "ValueError",
     "evalue": "Knowledge base is trying to remove a breeze.",
     "output_type": "error",
     "traceback": [
      "\u001B[1;31m---------------------------------------------------------------------------\u001B[0m",
      "\u001B[1;31mValueError\u001B[0m                                Traceback (most recent call last)",
      "Cell \u001B[1;32mIn[2], line 2\u001B[0m\n\u001B[0;32m      1\u001B[0m sys\u001B[38;5;241m.\u001B[39mstdout \u001B[38;5;241m=\u001B[39m \u001B[38;5;28mopen\u001B[39m(\u001B[38;5;124m\"\u001B[39m\u001B[38;5;124mComDump\u001B[39m\u001B[38;5;124m\"\u001B[39m, \u001B[38;5;124m\"\u001B[39m\u001B[38;5;124mw\u001B[39m\u001B[38;5;124m\"\u001B[39m, encoding\u001B[38;5;241m=\u001B[39m\u001B[38;5;124m\"\u001B[39m\u001B[38;5;124mutf-8\u001B[39m\u001B[38;5;124m\"\u001B[39m)\n\u001B[1;32m----> 2\u001B[0m data \u001B[38;5;241m=\u001B[39m \u001B[43mcollector\u001B[49m\u001B[38;5;241;43m.\u001B[39;49m\u001B[43msingle_run_collector\u001B[49m\u001B[43m(\u001B[49m\u001B[43mwith_communication\u001B[49m\u001B[38;5;241;43m=\u001B[39;49m\u001B[38;5;28;43;01mTrue\u001B[39;49;00m\u001B[43m,\u001B[49m\u001B[43m \u001B[49m\u001B[43mseed\u001B[49m\u001B[38;5;241;43m=\u001B[39;49m\u001B[38;5;241;43m42\u001B[39;49m\u001B[43m)\u001B[49m\n\u001B[0;32m      3\u001B[0m sys\u001B[38;5;241m.\u001B[39mstdout\u001B[38;5;241m.\u001B[39mflush()\n",
      "File \u001B[1;32m~\\PycharmProjects\\Wumpus\\Project\\collector.py:13\u001B[0m, in \u001B[0;36msingle_run_collector\u001B[1;34m(number_of_agents, number_of_simulation_steps, with_communication, seed, map_width, map_height)\u001B[0m\n\u001B[0;32m     11\u001B[0m agents \u001B[38;5;241m=\u001B[39m simulator\u001B[38;5;241m.\u001B[39mget_agents()\n\u001B[0;32m     12\u001B[0m \u001B[38;5;28;01mfor\u001B[39;00m \u001B[38;5;28mround\u001B[39m \u001B[38;5;129;01min\u001B[39;00m \u001B[38;5;28mrange\u001B[39m(\u001B[38;5;241m1\u001B[39m, number_of_simulation_steps):\n\u001B[1;32m---> 13\u001B[0m     _, meta \u001B[38;5;241m=\u001B[39m \u001B[43msimulator\u001B[49m\u001B[38;5;241;43m.\u001B[39;49m\u001B[43msimulate_next_step\u001B[49m\u001B[43m(\u001B[49m\u001B[38;5;241;43m-\u001B[39;49m\u001B[38;5;241;43m1\u001B[39;49m\u001B[43m)\u001B[49m\n\u001B[0;32m     14\u001B[0m     \u001B[38;5;28;01mfor\u001B[39;00m agent \u001B[38;5;129;01min\u001B[39;00m agents\u001B[38;5;241m.\u001B[39mvalues():\n\u001B[0;32m     15\u001B[0m         dataArray\u001B[38;5;241m.\u001B[39mappend([agent\u001B[38;5;241m.\u001B[39mname,\n\u001B[0;32m     16\u001B[0m                           agents[agent\u001B[38;5;241m.\u001B[39mname]\u001B[38;5;241m.\u001B[39mrole\u001B[38;5;241m.\u001B[39mname,\n\u001B[0;32m     17\u001B[0m                           \u001B[38;5;28mround\u001B[39m,\n\u001B[0;32m     18\u001B[0m                           meta[agent\u001B[38;5;241m.\u001B[39mname][AgentGoal\u001B[38;5;241m.\u001B[39mGOLD\u001B[38;5;241m.\u001B[39mvalue][\u001B[38;5;241m0\u001B[39m],\n\u001B[0;32m     19\u001B[0m                           meta[agent\u001B[38;5;241m.\u001B[39mname][AgentGoal\u001B[38;5;241m.\u001B[39mWUMPUS\u001B[38;5;241m.\u001B[39mvalue][\u001B[38;5;241m0\u001B[39m],\n\u001B[0;32m     20\u001B[0m                           meta[agent\u001B[38;5;241m.\u001B[39mname][AgentGoal\u001B[38;5;241m.\u001B[39mMAP_PROGRESS\u001B[38;5;241m.\u001B[39mvalue][\u001B[38;5;241m0\u001B[39m]])\n",
      "File \u001B[1;32m~\\PycharmProjects\\Wumpus\\Project\\Simulator.py:167\u001B[0m, in \u001B[0;36mSimulator.simulate_next_step\u001B[1;34m(self, view)\u001B[0m\n\u001B[0;32m    165\u001B[0m \u001B[38;5;66;03m# give every agent knowledge about their status and the tile they are on\u001B[39;00m\n\u001B[0;32m    166\u001B[0m \u001B[38;5;28;01mfor\u001B[39;00m agent \u001B[38;5;129;01min\u001B[39;00m \u001B[38;5;28mself\u001B[39m\u001B[38;5;241m.\u001B[39m__agents\u001B[38;5;241m.\u001B[39mvalues():\n\u001B[1;32m--> 167\u001B[0m     \u001B[38;5;28;43mself\u001B[39;49m\u001B[38;5;241;43m.\u001B[39;49m\u001B[43m__spread_knowledge\u001B[49m\u001B[43m(\u001B[49m\u001B[43magent\u001B[49m\u001B[38;5;241;43m.\u001B[39;49m\u001B[43mname\u001B[49m\u001B[43m,\u001B[49m\u001B[43m \u001B[49m\u001B[38;5;28;43;01mTrue\u001B[39;49;00m\u001B[43m)\u001B[49m\n\u001B[0;32m    169\u001B[0m \u001B[38;5;28;01mif\u001B[39;00m \u001B[38;5;28mself\u001B[39m\u001B[38;5;241m.\u001B[39m__current_step \u001B[38;5;241m==\u001B[39m \u001B[38;5;28mself\u001B[39m\u001B[38;5;241m.\u001B[39m__number_of_simulation_steps:\n\u001B[0;32m    170\u001B[0m     \u001B[38;5;28mprint\u001B[39m(\u001B[38;5;124m\"\u001B[39m\u001B[38;5;124mSimulation done.\u001B[39m\u001B[38;5;124m\"\u001B[39m)\n",
      "File \u001B[1;32m~\\PycharmProjects\\Wumpus\\Project\\Simulator.py:46\u001B[0m, in \u001B[0;36mSimulator.__spread_knowledge\u001B[1;34m(self, agent, include_tile)\u001B[0m\n\u001B[0;32m     43\u001B[0m \u001B[38;5;28;01mif\u001B[39;00m include_tile:\n\u001B[0;32m     44\u001B[0m     conditions: \u001B[38;5;28mlist\u001B[39m[TileCondition] \u001B[38;5;241m=\u001B[39m \u001B[38;5;28mself\u001B[39m\u001B[38;5;241m.\u001B[39m__grid\u001B[38;5;241m.\u001B[39mget_tile_conditions(\u001B[38;5;28mself\u001B[39m\u001B[38;5;241m.\u001B[39m__agents[agent]\u001B[38;5;241m.\u001B[39mposition[\u001B[38;5;241m0\u001B[39m],\n\u001B[0;32m     45\u001B[0m                                                                       \u001B[38;5;28mself\u001B[39m\u001B[38;5;241m.\u001B[39m__agents[agent]\u001B[38;5;241m.\u001B[39mposition[\u001B[38;5;241m1\u001B[39m])\n\u001B[1;32m---> 46\u001B[0m     \u001B[38;5;28;43mself\u001B[39;49m\u001B[38;5;241;43m.\u001B[39;49m\u001B[43m__agents\u001B[49m\u001B[43m[\u001B[49m\u001B[43magent\u001B[49m\u001B[43m]\u001B[49m\u001B[38;5;241;43m.\u001B[39;49m\u001B[43magent\u001B[49m\u001B[38;5;241;43m.\u001B[39;49m\u001B[43mreceive_tile_from_simulator\u001B[49m\u001B[43m(\u001B[49m\u001B[38;5;28;43mself\u001B[39;49m\u001B[38;5;241;43m.\u001B[39;49m\u001B[43m__agents\u001B[49m\u001B[43m[\u001B[49m\u001B[43magent\u001B[49m\u001B[43m]\u001B[49m\u001B[38;5;241;43m.\u001B[39;49m\u001B[43mposition\u001B[49m\u001B[43m[\u001B[49m\u001B[38;5;241;43m0\u001B[39;49m\u001B[43m]\u001B[49m\u001B[43m,\u001B[49m\n\u001B[0;32m     47\u001B[0m \u001B[43m                                                           \u001B[49m\u001B[38;5;28;43mself\u001B[39;49m\u001B[38;5;241;43m.\u001B[39;49m\u001B[43m__agents\u001B[49m\u001B[43m[\u001B[49m\u001B[43magent\u001B[49m\u001B[43m]\u001B[49m\u001B[38;5;241;43m.\u001B[39;49m\u001B[43mposition\u001B[49m\u001B[43m[\u001B[49m\u001B[38;5;241;43m1\u001B[39;49m\u001B[43m]\u001B[49m\u001B[43m,\u001B[49m\u001B[43m \u001B[49m\u001B[38;5;28;43mset\u001B[39;49m\u001B[43m(\u001B[49m\u001B[43mconditions\u001B[49m\u001B[43m)\u001B[49m\u001B[43m)\u001B[49m\n",
      "File \u001B[1;32m~\\PycharmProjects\\Wumpus\\Project\\Agent\\Agent.py:88\u001B[0m, in \u001B[0;36mAgent.receive_tile_from_simulator\u001B[1;34m(self, x, y, tile_conditions)\u001B[0m\n\u001B[0;32m     87\u001B[0m \u001B[38;5;28;01mdef\u001B[39;00m\u001B[38;5;250m \u001B[39m\u001B[38;5;21mreceive_tile_from_simulator\u001B[39m(\u001B[38;5;28mself\u001B[39m, x: \u001B[38;5;28mint\u001B[39m, y: \u001B[38;5;28mint\u001B[39m, tile_conditions: \u001B[38;5;28mset\u001B[39m[TileCondition]):\n\u001B[1;32m---> 88\u001B[0m     \u001B[38;5;28;43mself\u001B[39;49m\u001B[38;5;241;43m.\u001B[39;49m\u001B[43m__knowledge\u001B[49m\u001B[38;5;241;43m.\u001B[39;49m\u001B[43mupdate_tile\u001B[49m\u001B[43m(\u001B[49m\u001B[43mx\u001B[49m\u001B[43m,\u001B[49m\u001B[43m \u001B[49m\u001B[43my\u001B[49m\u001B[43m,\u001B[49m\u001B[43m \u001B[49m\u001B[43mtile_conditions\u001B[49m\u001B[43m,\u001B[49m\u001B[43m \u001B[49m\u001B[38;5;28;43;01mTrue\u001B[39;49;00m\u001B[43m)\u001B[49m\n",
      "File \u001B[1;32m~\\PycharmProjects\\Wumpus\\Project\\Agent\\KnowledgeBase.py:373\u001B[0m, in \u001B[0;36mKnowledgeBase.update_tile\u001B[1;34m(self, x, y, tile_conditions, from_simulator)\u001B[0m\n\u001B[0;32m    371\u001B[0m     \u001B[38;5;28;01mif\u001B[39;00m \u001B[38;5;28mself\u001B[39m\u001B[38;5;241m.\u001B[39m__map\u001B[38;5;241m.\u001B[39mvisited(x, y) \u001B[38;5;129;01mand\u001B[39;00m \u001B[38;5;129;01mnot\u001B[39;00m \u001B[38;5;28mself\u001B[39m\u001B[38;5;241m.\u001B[39m__map\u001B[38;5;241m.\u001B[39mtile_has_condition(x, y, TileCondition\u001B[38;5;241m.\u001B[39mBREEZE):\n\u001B[0;32m    372\u001B[0m         \u001B[38;5;28;01mfor\u001B[39;00m tile \u001B[38;5;129;01min\u001B[39;00m SURROUNDING_TILES:\n\u001B[1;32m--> 373\u001B[0m             \u001B[38;5;28;43mself\u001B[39;49m\u001B[38;5;241;43m.\u001B[39;49m\u001B[43m__discard_and_re_predict\u001B[49m\u001B[43m(\u001B[49m\u001B[43mx\u001B[49m\u001B[43m \u001B[49m\u001B[38;5;241;43m+\u001B[39;49m\u001B[43m \u001B[49m\u001B[43mtile\u001B[49m\u001B[43m[\u001B[49m\u001B[38;5;241;43m0\u001B[39;49m\u001B[43m]\u001B[49m\u001B[43m,\u001B[49m\u001B[43m \u001B[49m\u001B[43my\u001B[49m\u001B[43m \u001B[49m\u001B[38;5;241;43m+\u001B[39;49m\u001B[43m \u001B[49m\u001B[43mtile\u001B[49m\u001B[43m[\u001B[49m\u001B[38;5;241;43m1\u001B[39;49m\u001B[43m]\u001B[49m\u001B[43m,\u001B[49m\u001B[43m \u001B[49m\u001B[43mTileCondition\u001B[49m\u001B[38;5;241;43m.\u001B[39;49m\u001B[43mPREDICTED_PIT\u001B[49m\u001B[43m)\u001B[49m\n\u001B[0;32m    374\u001B[0m \u001B[38;5;28;01mcase\u001B[39;00m TileCondition\u001B[38;5;241m.\u001B[39mWALL:\n\u001B[0;32m    375\u001B[0m     \u001B[38;5;66;03m# remove predicted dangers as the tile is a wall\u001B[39;00m\n\u001B[0;32m    376\u001B[0m     \u001B[38;5;28mself\u001B[39m\u001B[38;5;241m.\u001B[39m__discard_and_re_predict(x, y, TileCondition\u001B[38;5;241m.\u001B[39mPREDICTED_WUMPUS)\n",
      "File \u001B[1;32m~\\PycharmProjects\\Wumpus\\Project\\Agent\\KnowledgeBase.py:298\u001B[0m, in \u001B[0;36mKnowledgeBase.__discard_and_re_predict\u001B[1;34m(self, x, y, tile_condition)\u001B[0m\n\u001B[0;32m    296\u001B[0m \u001B[38;5;28;01mif\u001B[39;00m \u001B[38;5;28mself\u001B[39m\u001B[38;5;241m.\u001B[39m__surrounding_danger_count[(x \u001B[38;5;241m+\u001B[39m inner_tile[\u001B[38;5;241m0\u001B[39m], y \u001B[38;5;241m+\u001B[39m inner_tile[\u001B[38;5;241m1\u001B[39m], prediction_condition)] \u001B[38;5;241m==\u001B[39m \u001B[38;5;241m0\u001B[39m:\n\u001B[0;32m    297\u001B[0m     \u001B[38;5;28;01mif\u001B[39;00m prediction_condition \u001B[38;5;241m==\u001B[39m TileCondition\u001B[38;5;241m.\u001B[39mBREEZE:\n\u001B[1;32m--> 298\u001B[0m         \u001B[38;5;28;01mraise\u001B[39;00m \u001B[38;5;167;01mValueError\u001B[39;00m(\u001B[38;5;124mf\u001B[39m\u001B[38;5;124m\"\u001B[39m\u001B[38;5;124mKnowledge base is trying to remove a breeze.\u001B[39m\u001B[38;5;124m\"\u001B[39m)\n\u001B[0;32m    299\u001B[0m     \u001B[38;5;28mself\u001B[39m\u001B[38;5;241m.\u001B[39m__map\u001B[38;5;241m.\u001B[39mremove_condition_from_tile(x \u001B[38;5;241m+\u001B[39m inner_tile[\u001B[38;5;241m0\u001B[39m], y \u001B[38;5;241m+\u001B[39m inner_tile[\u001B[38;5;241m1\u001B[39m], prediction_condition)\n\u001B[0;32m    300\u001B[0m     \u001B[38;5;28;01mdel\u001B[39;00m \u001B[38;5;28mself\u001B[39m\u001B[38;5;241m.\u001B[39m__surrounding_danger_count[(x \u001B[38;5;241m+\u001B[39m inner_tile[\u001B[38;5;241m0\u001B[39m], y \u001B[38;5;241m+\u001B[39m inner_tile[\u001B[38;5;241m1\u001B[39m], prediction_condition)]\n",
      "\u001B[1;31mValueError\u001B[0m: Knowledge base is trying to remove a breeze."
     ]
    }
   ],
   "execution_count": 2
  },
  {
   "metadata": {
    "ExecuteTime": {
     "end_time": "2025-01-30T09:34:49.765139Z",
     "start_time": "2025-01-30T09:34:49.765139Z"
    }
   },
   "cell_type": "code",
   "source": [
    "import re\n",
    "with open(\"ComDump\", \"r\", encoding=\"utf-8\") as file:\n",
    "    lines = file.readlines()\n",
    "    for i in range(len(lines)):\n",
    "        if re.search(\"(The request is completed)|(The negotiation has reached an agreement)\", lines[i]) is not None:\n",
    "            print(i)"
   ],
   "id": "4f1f998cf7cbd018",
   "outputs": [],
   "execution_count": null
  },
  {
   "metadata": {
    "ExecuteTime": {
     "end_time": "2025-01-30T09:34:49.766135Z",
     "start_time": "2025-01-30T09:34:49.766135Z"
    }
   },
   "cell_type": "code",
   "source": "",
   "id": "bd4b93a8f4d4a04e",
   "outputs": [],
   "execution_count": null
  }
 ],
 "metadata": {
  "kernelspec": {
   "display_name": "Python 3",
   "language": "python",
   "name": "python3"
  },
  "language_info": {
   "codemirror_mode": {
    "name": "ipython",
    "version": 2
   },
   "file_extension": ".py",
   "mimetype": "text/x-python",
   "name": "python",
   "nbconvert_exporter": "python",
   "pygments_lexer": "ipython2",
   "version": "2.7.6"
  }
 },
 "nbformat": 4,
 "nbformat_minor": 5
}
